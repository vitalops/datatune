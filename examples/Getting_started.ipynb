{
  "cells": [
    {
      "cell_type": "markdown",
      "metadata": {
        "id": "OHg0Xg632UxE"
      },
      "source": [
        "# Getting started with Datatune"
      ]
    },
    {
      "cell_type": "markdown",
      "metadata": {
        "id": "TjDiMfzi2UxF"
      },
      "source": [
        "## Setup and Installation   \n",
        "First, let's install the necessary packages:"
      ]
    },
    {
      "cell_type": "code",
      "execution_count": null,
      "metadata": {
        "vscode": {
          "languageId": "plaintext"
        },
        "id": "aISH8Ve42UxF"
      },
      "outputs": [],
      "source": [
        "!pip install datatune"
      ]
    },
    {
      "cell_type": "markdown",
      "metadata": {
        "id": "Gd16ZTSG2UxG"
      },
      "source": [
        "## Import Required Libraries\n"
      ]
    },
    {
      "cell_type": "code",
      "execution_count": null,
      "metadata": {
        "id": "x2GlLBRv2UxG"
      },
      "outputs": [],
      "source": [
        "import pandas as pd\n",
        "import dask.dataframe as dd\n",
        "from datatune.llm.llm import Azure, Ollama, Gemini\n",
        "import datatune as dt\n",
        "import os"
      ]
    },
    {
      "cell_type": "markdown",
      "metadata": {
        "id": "mtc44gBs2UxG"
      },
      "source": [
        "## If you're using an LLM service provider, configure your LLM service\n",
        "\n",
        "Set up your LLM credentials (if any). Make sure to set these environment variables in your command line:\n"
      ]
    },
    {
      "cell_type": "code",
      "execution_count": null,
      "metadata": {
        "vscode": {
          "languageId": "shellscript"
        },
        "id": "Kts_-l7S2UxG"
      },
      "outputs": [],
      "source": [
        "# If using Azure\n",
        "!export AZURE_API_KEY=\"your-azure-key\"\n",
        "!export AZURE_API_BASE=\"https://your-resource.openai.azure.com/\"\n",
        "!export AZURE_API_VERSION=\"your api version\"\n",
        "\n",
        "# If using Gemini\n",
        "\n",
        "!export GEMINI_API_KEY= \"your gemini api key\""
      ]
    },
    {
      "cell_type": "markdown",
      "source": [
        "## Else, If you are using Ollama for your local models, here are the initial steps"
      ],
      "metadata": {
        "id": "yIbbiJKi5ou5"
      }
    },
    {
      "cell_type": "code",
      "source": [
        "\n",
        "!apt-get update && apt-get install -y wget\n",
        "!wget https://ollama.ai/install.sh -O install_ollama.sh\n",
        "!chmod +x install_ollama.sh\n",
        "!OLLAMA_USE_SYSTEM_CA_CERTS=1 ./install_ollama.sh\n",
        "!ollama serve > /var/log/ollama.log 2>&1 &"
      ],
      "metadata": {
        "id": "ugLCh_BMqB3z"
      },
      "execution_count": null,
      "outputs": []
    },
    {
      "cell_type": "code",
      "source": [
        "# Now pull your custom Ollama Model\n",
        "!ollama pull qwen2.5vl:7b # or provide your own model"
      ],
      "metadata": {
        "id": "2PmxvVrjqOed"
      },
      "execution_count": null,
      "outputs": []
    },
    {
      "cell_type": "markdown",
      "source": [],
      "metadata": {
        "id": "pbYrSgXd7qdJ"
      }
    },
    {
      "cell_type": "code",
      "execution_count": null,
      "metadata": {
        "id": "nKBa-4L22UxI"
      },
      "outputs": [],
      "source": [
        "# Set your Azure OpenAI credentials\n",
        "api_key = os.getenv(\"AZURE_API_KEY\")\n",
        "api_base = os.getenv(\"AZURE_API_BASE\")\n",
        "api_version = os.getenv(\"AZURE_API_VERSION\")\n",
        "\n",
        "# Initialize Azure OpenAI LLM\n",
        "llm = Azure(\n",
        "    model_name=\"gpt-35-turbo\",  # choose your model that's deployed in Azure\n",
        "    api_key=api_key,\n",
        "    api_base=api_base,\n",
        "    api_version=api_version,\n",
        ")"
      ]
    },
    {
      "cell_type": "code",
      "source": [
        "# if you're using Gemini, uncomment the following lines instead:\n",
        "# llm = Gemini(\n",
        "#    model_name=\"gemma-3-1b-it\", #or use your custom model\n",
        "#    api_key=os.getenv(\"GEMINI_API_KEY\")\n",
        "#)"
      ],
      "metadata": {
        "id": "3MYHcBYvlNcv"
      },
      "execution_count": 1,
      "outputs": []
    },
    {
      "cell_type": "code",
      "source": [
        "# or if you're using local models, uncomment the following lines to use Ollama\n",
        "\n",
        "# llm = Ollama(\n",
        "#    model_name=\"llama3:15b\",\n",
        "#    api_base=\"http://ollama-server:11434\"\n",
        "#)"
      ],
      "metadata": {
        "id": "DREPlKRa6qne"
      },
      "execution_count": null,
      "outputs": []
    },
    {
      "cell_type": "markdown",
      "metadata": {
        "id": "is47NzrK2UxI"
      },
      "source": [
        "### Step 1: Create E-commerce Product Dataset\n",
        "Let's create a realistic e-commerce product dataset with various product types and customer reviews:"
      ]
    },
    {
      "cell_type": "code",
      "execution_count": null,
      "metadata": {
        "id": "n_PxbWwz2UxI"
      },
      "outputs": [],
      "source": [
        "# Create e-commerce product dataset\n",
        "data = {\n",
        "    'product_id': ['P001', 'P002', 'P003', 'P004', 'P005', 'P006', 'P007', 'P008', 'P009', 'P010'],\n",
        "    'product_name': [\n",
        "        'Wireless Bluetooth Headphones with Noise Cancelling',\n",
        "        'Organic Cotton Baby Onesie Set - 3 Pack',\n",
        "        'Professional Chef Knife Set with Wooden Block',\n",
        "        'Smart Fitness Tracker with Heart Rate Monitor',\n",
        "        'Luxury Silk Pillowcase - Queen Size',\n",
        "        'Portable Solar Phone Charger for Camping',\n",
        "        'Artisan Coffee Beans - Ethiopian Single Origin',\n",
        "        'Anti-Aging Vitamin C Serum with Hyaluronic Acid',\n",
        "        'Wireless Gaming Mouse with RGB Lighting',\n",
        "        'Eco-Friendly Bamboo Toothbrush Set of 4'\n",
        "    ],\n",
        "    'description': [\n",
        "        'Premium over-ear headphones with active noise cancellation, 30-hour battery life, and crystal clear sound quality',\n",
        "        'Made from 100% organic cotton, these soft onesies are perfect for sensitive baby skin. Machine washable and durable',\n",
        "        'High-carbon stainless steel knives with ergonomic handles. Includes 8 knives and wooden storage block',\n",
        "        'Track your workouts, monitor heart rate, count steps, and receive notifications. Waterproof design',\n",
        "        'Luxurious mulberry silk pillowcase that reduces hair frizz and prevents wrinkles. Hypoallergenic',\n",
        "        'Foldable solar panel charger with dual USB ports. Weather-resistant and perfect for outdoor adventures',\n",
        "        'Single-origin beans from Ethiopian highlands. Medium roast with notes of chocolate and berries',\n",
        "        'Clinical-strength serum with 20% Vitamin C and hyaluronic acid. Reduces fine lines and brightens skin',\n",
        "        'High-precision gaming mouse with customizable DPI settings and programmable RGB lighting effects',\n",
        "        'Sustainable bamboo toothbrushes with soft bristles. Biodegradable and environmentally friendly'\n",
        "    ],\n",
        "    'price': [89.99, 24.99, 149.99, 79.99, 39.99, 59.99, 18.99, 34.99, 49.99, 12.99],\n",
        "    'rating': [4.5, 4.8, 4.2, 4.6, 4.7, 4.1, 4.9, 4.3, 4.4, 4.6],\n",
        "    'reviews_text': [\n",
        "        'Amazing sound quality and the noise cancellation works perfectly on flights. Battery lasts all day!',\n",
        "        'So soft and comfortable for my baby. Great quality organic cotton and holds up well after washing.',\n",
        "        'Sharp knives that make cooking a pleasure. The wooden block looks great on my counter too.',\n",
        "        'Accurate fitness tracking and the heart rate monitor is very reliable. Love the sleep tracking feature.',\n",
        "        'My hair is so much smoother since switching to this pillowcase. Worth every penny!',\n",
        "        'Charged my phone twice during a 3-day camping trip. Compact and works even on cloudy days.',\n",
        "        'Best coffee I have ever tasted! Rich flavor with perfect balance. Will definitely reorder.',\n",
        "        'Noticed visible improvement in my skin texture after just 2 weeks. No irritation despite sensitive skin.',\n",
        "        'Perfect for gaming with great precision. The RGB lighting is customizable and looks awesome.',\n",
        "        'Love that these are eco-friendly! Bristles are just the right softness and they last long.'\n",
        "    ],\n",
        "    'stock_quantity': [45, 123, 12, 67, 89, 23, 156, 78, 34, 201]\n",
        "}\n",
        "\n",
        "df = pd.DataFrame(data)\n",
        "print(\"Original E-commerce Dataset:\")\n",
        "print(df[['product_id', 'product_name', 'price', 'rating']].head())"
      ]
    },
    {
      "cell_type": "markdown",
      "metadata": {
        "id": "9Tgpxs0k2UxJ"
      },
      "source": [
        "### Step 2: Convert to Dask DataFrame"
      ]
    },
    {
      "cell_type": "code",
      "execution_count": null,
      "metadata": {
        "id": "u14S648-2UxK"
      },
      "outputs": [],
      "source": [
        "# Convert to dask dataframe for Datatune\n",
        "df = dd.from_pandas(df, npartitions=3)\n",
        "print(f\"Dask DataFrame created with {df.npartitions} partitions\")"
      ]
    },
    {
      "cell_type": "markdown",
      "metadata": {
        "id": "3BlIyZbd2UxK"
      },
      "source": [
        "### Step 3: Map Operation - Product Categorization\n",
        "Use AI to automatically categorize products into departments and subcategories:"
      ]
    },
    {
      "cell_type": "code",
      "execution_count": null,
      "metadata": {
        "id": "ope6M89b2UxK"
      },
      "outputs": [],
      "source": [
        "# Map operation to categorize products\n",
        "categorization_map = dt.map(\n",
        "    prompt=\"Analyze the product name and description to determine the main category, subcategory, and target demographic for this product.\",\n",
        "    output_fields=[\"main_category\", \"subcategory\", \"target_demographic\"]\n",
        ")(llm, df)\n",
        "\n",
        "print(\"Running product categorization...\")\n",
        "categorized_df = categorization_map.compute()\n",
        "final_categorized = dt.finalize(categorized_df)\n",
        "\n",
        "print(\"\\nProducts with AI-generated categories:\")\n",
        "print(final_categorized[['product_name', 'main_category', 'subcategory', 'target_demographic']].head())"
      ]
    },
    {
      "cell_type": "markdown",
      "metadata": {
        "id": "FoMVaOV02UxK"
      },
      "source": [
        "### Step 4: Map Operation - Review Sentiment Analysis\n",
        "Analyze customer review sentiment and extract key themes:\n"
      ]
    },
    {
      "cell_type": "code",
      "execution_count": null,
      "metadata": {
        "id": "5xLmirRe2UxK"
      },
      "outputs": [],
      "source": [
        "# Map operation for sentiment analysis\n",
        "sentiment_map = dt.map(\n",
        "    prompt=\"Analyze the customer review text and determine the overall sentiment (positive/negative/neutral), main compliments mentioned, and any concerns raised.\",\n",
        "    output_fields=[\"sentiment\", \"main_compliments\", \"concerns\"]\n",
        ")(llm, final_categorized)\n",
        "\n",
        "print(\"Running sentiment analysis on reviews...\")\n",
        "sentiment_df = sentiment_map.compute()\n",
        "final_sentiment = dt.finalize(sentiment_df)\n",
        "\n",
        "print(\"\\nProducts with sentiment analysis:\")\n",
        "print(final_sentiment[['product_name', 'sentiment', 'main_compliments', 'concerns']].head())"
      ]
    },
    {
      "cell_type": "markdown",
      "metadata": {
        "id": "I23NZ6YW2UxL"
      },
      "source": [
        "### Step 5: Filter Operation - High-Value Products\n",
        "Filter products based on business criteria - high-value items with good ratings:"
      ]
    },
    {
      "cell_type": "code",
      "execution_count": null,
      "metadata": {
        "id": "Hh-6hfBm2UxL"
      },
      "outputs": [],
      "source": [
        "# Filter for premium products (high price and good rating)\n",
        "premium_filter = dt.filter(\n",
        "    prompt=\"Keep only products that are priced above $40 AND have a rating above 4.3. These are our premium offerings.\"\n",
        ")(llm, final_sentiment)\n",
        "\n",
        "print(\"Filtering for premium products (>$40 and rating >4.3)...\")\n",
        "premium_df = premium_filter.compute()\n",
        "final_premium = dt.finalize(premium_df)\n",
        "\n",
        "print(f\"\\nPremium Products Found: {len(final_premium)}\")\n",
        "print(final_premium[['product_name', 'price', 'rating', 'main_category']])"
      ]
    },
    {
      "cell_type": "markdown",
      "metadata": {
        "id": "ZmTRxuAN2UxL"
      },
      "source": [
        "### Step 6: Filter Operation - Inventory Management\n",
        "Filter products that need inventory attention:"
      ]
    },
    {
      "cell_type": "code",
      "execution_count": null,
      "metadata": {
        "id": "hIF_QUw92UxM"
      },
      "outputs": [],
      "source": [
        "# Filter products with low stock that are popular (high rating)\n",
        "low_stock_filter = dt.filter(\n",
        "    prompt=\"Keep only products that have stock quantity below 50 AND rating above 4.0. These popular items need restocking soon.\"\n",
        ")(llm, final_sentiment)\n",
        "\n",
        "print(\"Filtering for popular products with low stock...\")\n",
        "low_stock_df = low_stock_filter.compute()\n",
        "final_low_stock = dt.finalize(low_stock_df)\n",
        "\n",
        "print(f\"\\nProducts needing restock: {len(final_low_stock)}\")\n",
        "print(final_low_stock[['product_name', 'stock_quantity', 'rating', 'price']])"
      ]
    },
    {
      "cell_type": "markdown",
      "metadata": {
        "id": "pnQ1Wl9h2UxM"
      },
      "source": [
        "### Step 7: Map Operation - Marketing Insights\n",
        "Generate marketing insights and recommended strategies:"
      ]
    },
    {
      "cell_type": "code",
      "execution_count": null,
      "metadata": {
        "id": "wOyFVcUS2UxN"
      },
      "outputs": [],
      "source": [
        "# Map operation for marketing strategy\n",
        "marketing_map = dt.map(\n",
        "    prompt=\"\"\"Based on the product details, customer reviews, and current performance, suggest:\n",
        "    1. The best marketing channel for this product\n",
        "    2. Key selling points to highlight in ads\n",
        "    3. Potential bundle opportunities with other products\"\"\",\n",
        "    output_fields=[\"best_marketing_channel\", \"key_selling_points\", \"bundle_opportunities\"]\n",
        ")(llm, final_sentiment)\n",
        "\n",
        "print(\"Generating marketing insights...\")\n",
        "marketing_df = marketing_map.compute()\n",
        "final_marketing = dt.finalize(marketing_df)\n",
        "\n",
        "print(\"\\nMarketing insights for products:\")\n",
        "for idx, row in final_marketing.head(3).iterrows():\n",
        "    print(f\"\\nProduct: {row['product_name']}\")\n",
        "    print(f\"Marketing Channel: {row['best_marketing_channel']}\")\n",
        "    print(f\"Key Selling Points: {row['key_selling_points']}\")\n",
        "    print(f\"Bundle Ideas: {row['bundle_opportunities']}\")"
      ]
    },
    {
      "cell_type": "markdown",
      "metadata": {
        "id": "MSd-vqQN2UxN"
      },
      "source": [
        "### Step 8: Map Operation - Competitive Pricing Analysis\n",
        "Analyze pricing strategy and recommendations:"
      ]
    },
    {
      "cell_type": "code",
      "execution_count": null,
      "metadata": {
        "id": "-4XFMkSy2UxO"
      },
      "outputs": [],
      "source": [
        "# Map operation for pricing analysis\n",
        "pricing_map = dt.map(\n",
        "    prompt=\"\"\"Analyze this product's price relative to its features, quality (based on rating and reviews), and category.\n",
        "    Determine if the price is competitive, overpriced, or underpriced. Suggest pricing adjustments if needed.\"\"\",\n",
        "    output_fields=[\"pricing_assessment\", \"suggested_price_range\", \"pricing_strategy\"]\n",
        ")(llm, final_marketing)\n",
        "\n",
        "print(\"Running pricing analysis...\")\n",
        "pricing_df = pricing_map.compute()\n",
        "final_pricing = dt.finalize(pricing_df)\n",
        "\n",
        "print(\"\\nPricing analysis results:\")\n",
        "print(final_pricing[['product_name', 'price', 'pricing_assessment', 'suggested_price_range']].head())"
      ]
    },
    {
      "cell_type": "markdown",
      "metadata": {
        "id": "261X7XOk2UxO"
      },
      "source": [
        "## Summary"
      ]
    },
    {
      "cell_type": "code",
      "execution_count": null,
      "metadata": {
        "id": "QWF0n3Qp2UxO"
      },
      "outputs": [],
      "source": [
        "# Create a summary report\n",
        "print(\"=== E-COMMERCE ANALYTICS SUMMARY ===\\n\")\n",
        "\n",
        "print(\"1. PRODUCT CATEGORIES:\")\n",
        "category_summary = final_categorized.groupby('main_category').size().reset_index(name='count')\n",
        "print(category_summary)\n",
        "\n",
        "print(f\"\\n2. SENTIMENT DISTRIBUTION:\")\n",
        "sentiment_summary = final_sentiment.groupby('sentiment').size().reset_index(name='count')\n",
        "print(sentiment_summary)\n",
        "\n",
        "print(f\"\\n3. INVENTORY ALERTS:\")\n",
        "print(f\"   - Premium products: {len(final_premium)} items\")\n",
        "print(f\"   - Low stock items: {len(final_low_stock)} items needing restock\")\n",
        "\n",
        "print(f\"\\n4. AVERAGE METRICS:\")\n",
        "print(f\"   - Average price: ${final_pricing['price'].mean():.2f}\")\n",
        "print(f\"   - Average rating: {final_pricing['rating'].mean():.2f}\")\n",
        "print(f\"   - Average stock: {final_pricing['stock_quantity'].mean():.0f} units\")"
      ]
    }
  ],
  "metadata": {
    "language_info": {
      "name": "python"
    },
    "colab": {
      "provenance": []
    },
    "kernelspec": {
      "name": "python3",
      "display_name": "Python 3"
    }
  },
  "nbformat": 4,
  "nbformat_minor": 0
}